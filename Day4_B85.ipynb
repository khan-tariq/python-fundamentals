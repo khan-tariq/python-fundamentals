{
 "cells": [
  {
   "cell_type": "code",
   "execution_count": null,
   "id": "302ae0d7",
   "metadata": {},
   "outputs": [],
   "source": [
    "introduction to list data tye"
   ]
  },
  {
   "cell_type": "code",
   "execution_count": null,
   "id": "5269665e",
   "metadata": {},
   "outputs": [],
   "source": [
    "How to define list data type"
   ]
  },
  {
   "cell_type": "code",
   "execution_count": 1,
   "id": "98bc2b26",
   "metadata": {},
   "outputs": [],
   "source": [
    "students = ['khadija','anitha','naveen','suresh','david']"
   ]
  },
  {
   "cell_type": "code",
   "execution_count": 2,
   "id": "f15d8224",
   "metadata": {},
   "outputs": [
    {
     "name": "stdout",
     "output_type": "stream",
     "text": [
      "['khadija', 'anitha', 'naveen', 'suresh', 'david']\n"
     ]
    }
   ],
   "source": [
    "print(students)"
   ]
  },
  {
   "cell_type": "code",
   "execution_count": null,
   "id": "e70bd386",
   "metadata": {},
   "outputs": [],
   "source": [
    "#req= want to access anitha name from above list"
   ]
  },
  {
   "cell_type": "code",
   "execution_count": 3,
   "id": "7669e351",
   "metadata": {},
   "outputs": [
    {
     "name": "stdout",
     "output_type": "stream",
     "text": [
      "anitha\n"
     ]
    }
   ],
   "source": [
    "print(students[1])"
   ]
  },
  {
   "cell_type": "code",
   "execution_count": null,
   "id": "8c445b31",
   "metadata": {},
   "outputs": [],
   "source": [
    "#req= want to access suresh name from above list"
   ]
  },
  {
   "cell_type": "code",
   "execution_count": 4,
   "id": "f19d2423",
   "metadata": {},
   "outputs": [
    {
     "name": "stdout",
     "output_type": "stream",
     "text": [
      "suresh\n"
     ]
    }
   ],
   "source": [
    "print(students[3])"
   ]
  },
  {
   "cell_type": "code",
   "execution_count": null,
   "id": "7fb9fdb9",
   "metadata": {},
   "outputs": [],
   "source": [
    "note: name fist letter coming in small "
   ]
  },
  {
   "cell_type": "code",
   "execution_count": 5,
   "id": "e3902351",
   "metadata": {},
   "outputs": [
    {
     "name": "stdout",
     "output_type": "stream",
     "text": [
      "Suresh\n"
     ]
    }
   ],
   "source": [
    "print(students[3].title())"
   ]
  },
  {
   "cell_type": "code",
   "execution_count": null,
   "id": "727a8cb8",
   "metadata": {},
   "outputs": [],
   "source": [
    "# HOw to add satish name in the list"
   ]
  },
  {
   "cell_type": "code",
   "execution_count": 7,
   "id": "43d4ec95",
   "metadata": {},
   "outputs": [],
   "source": [
    "students.append('satish')"
   ]
  },
  {
   "cell_type": "code",
   "execution_count": 8,
   "id": "fddc5003",
   "metadata": {},
   "outputs": [
    {
     "name": "stdout",
     "output_type": "stream",
     "text": [
      "['khadija', 'anitha', 'naveen', 'suresh', 'david', 'satish']\n"
     ]
    }
   ],
   "source": [
    "print(students)"
   ]
  },
  {
   "cell_type": "code",
   "execution_count": null,
   "id": "1d4c3e48",
   "metadata": {},
   "outputs": [],
   "source": [
    "# i want to add shoeb in the list"
   ]
  },
  {
   "cell_type": "code",
   "execution_count": 9,
   "id": "8e548e78",
   "metadata": {},
   "outputs": [],
   "source": [
    "students.append ('shoeb')"
   ]
  },
  {
   "cell_type": "code",
   "execution_count": 10,
   "id": "89b63c23",
   "metadata": {},
   "outputs": [
    {
     "name": "stdout",
     "output_type": "stream",
     "text": [
      "['khadija', 'anitha', 'naveen', 'suresh', 'david', 'satish', 'shoeb']\n"
     ]
    }
   ],
   "source": [
    "print(students)"
   ]
  },
  {
   "cell_type": "code",
   "execution_count": null,
   "id": "e0476473",
   "metadata": {},
   "outputs": [],
   "source": [
    "# i want to add tanvir at 2nd indexing position"
   ]
  },
  {
   "cell_type": "code",
   "execution_count": 11,
   "id": "7bd09cd3",
   "metadata": {},
   "outputs": [],
   "source": [
    "students.insert(2,'tanvir')"
   ]
  },
  {
   "cell_type": "code",
   "execution_count": 12,
   "id": "5c75efc6",
   "metadata": {},
   "outputs": [
    {
     "name": "stdout",
     "output_type": "stream",
     "text": [
      "['khadija', 'anitha', 'tanvir', 'naveen', 'suresh', 'david', 'satish', 'shoeb']\n"
     ]
    }
   ],
   "source": [
    "print(students)"
   ]
  },
  {
   "cell_type": "code",
   "execution_count": 14,
   "id": "5e7738de",
   "metadata": {},
   "outputs": [],
   "source": [
    "# want to modify khadija name to rubina"
   ]
  },
  {
   "cell_type": "code",
   "execution_count": 16,
   "id": "ded150e1",
   "metadata": {},
   "outputs": [],
   "source": [
    "students[0] = 'rubina'"
   ]
  },
  {
   "cell_type": "code",
   "execution_count": 17,
   "id": "9e2b056d",
   "metadata": {},
   "outputs": [
    {
     "name": "stdout",
     "output_type": "stream",
     "text": [
      "['rubina', 'anitha', 'tanvir', 'naveen', 'suresh', 'david', 'satish', 'shoeb']\n"
     ]
    }
   ],
   "source": [
    "print(students)"
   ]
  },
  {
   "cell_type": "code",
   "execution_count": null,
   "id": "2676fbd6",
   "metadata": {},
   "outputs": [],
   "source": [
    "# want to delete anith from the above list"
   ]
  },
  {
   "cell_type": "code",
   "execution_count": 18,
   "id": "bee9ee22",
   "metadata": {},
   "outputs": [],
   "source": [
    "del students[1]"
   ]
  },
  {
   "cell_type": "code",
   "execution_count": 19,
   "id": "f35ceeb5",
   "metadata": {},
   "outputs": [
    {
     "name": "stdout",
     "output_type": "stream",
     "text": [
      "['rubina', 'tanvir', 'naveen', 'suresh', 'david', 'satish', 'shoeb']\n"
     ]
    }
   ],
   "source": [
    "print(students)"
   ]
  },
  {
   "cell_type": "raw",
   "id": "58f1c8b9",
   "metadata": {},
   "source": []
  }
 ],
 "metadata": {
  "kernelspec": {
   "display_name": "Python 3 (ipykernel)",
   "language": "python",
   "name": "python3"
  },
  "language_info": {
   "codemirror_mode": {
    "name": "ipython",
    "version": 3
   },
   "file_extension": ".py",
   "mimetype": "text/x-python",
   "name": "python",
   "nbconvert_exporter": "python",
   "pygments_lexer": "ipython3",
   "version": "3.11.5"
  }
 },
 "nbformat": 4,
 "nbformat_minor": 5
}

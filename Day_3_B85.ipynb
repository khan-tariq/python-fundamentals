{
 "cells": [
  {
   "cell_type": "code",
   "execution_count": null,
   "id": "645c5624",
   "metadata": {},
   "outputs": [],
   "source": [
    "continuation with string"
   ]
  },
  {
   "cell_type": "code",
   "execution_count": 1,
   "id": "0eb8274e",
   "metadata": {},
   "outputs": [
    {
     "name": "stdout",
     "output_type": "stream",
     "text": [
      "lucky singh\n"
     ]
    }
   ],
   "source": [
    "fullname = 'lucky singh'\n",
    "print(fullname)"
   ]
  },
  {
   "cell_type": "code",
   "execution_count": 2,
   "id": "a995ee25",
   "metadata": {},
   "outputs": [
    {
     "name": "stdout",
     "output_type": "stream",
     "text": [
      "Lucky Singh\n"
     ]
    }
   ],
   "source": [
    "print(fullname.title())"
   ]
  },
  {
   "cell_type": "code",
   "execution_count": 3,
   "id": "f6bc89ba",
   "metadata": {},
   "outputs": [
    {
     "name": "stdout",
     "output_type": "stream",
     "text": [
      "LUCKY SINGH\n"
     ]
    }
   ],
   "source": [
    "print(fullname.upper())"
   ]
  },
  {
   "cell_type": "code",
   "execution_count": 4,
   "id": "5db817a4",
   "metadata": {},
   "outputs": [
    {
     "name": "stdout",
     "output_type": "stream",
     "text": [
      "lucky singh\n"
     ]
    }
   ],
   "source": [
    "print(fullname.lower())"
   ]
  },
  {
   "cell_type": "code",
   "execution_count": null,
   "id": "69c99e98",
   "metadata": {},
   "outputs": [],
   "source": [
    "#intoduction to f string "
   ]
  },
  {
   "cell_type": "code",
   "execution_count": 5,
   "id": "60cdc4ed",
   "metadata": {},
   "outputs": [],
   "source": [
    "fistname = 'leena'\n",
    "lastname = 'patil'"
   ]
  },
  {
   "cell_type": "code",
   "execution_count": null,
   "id": "3d0d5ea3",
   "metadata": {},
   "outputs": [],
   "source": [
    "#want to get the fullname"
   ]
  },
  {
   "cell_type": "code",
   "execution_count": 7,
   "id": "d21cf997",
   "metadata": {},
   "outputs": [
    {
     "name": "stdout",
     "output_type": "stream",
     "text": [
      "leena patil\n"
     ]
    }
   ],
   "source": [
    "fullname = f\"{fistname} {lastname}\"\n",
    "print(fullname)"
   ]
  },
  {
   "cell_type": "code",
   "execution_count": 8,
   "id": "87e4911c",
   "metadata": {},
   "outputs": [
    {
     "name": "stdout",
     "output_type": "stream",
     "text": [
      "Leena Patil\n"
     ]
    }
   ],
   "source": [
    "print(fullname.title())"
   ]
  },
  {
   "cell_type": "code",
   "execution_count": 9,
   "id": "5e0b0842",
   "metadata": {},
   "outputs": [
    {
     "name": "stdout",
     "output_type": "stream",
     "text": [
      "keep up the good work, Leena Patil\n"
     ]
    }
   ],
   "source": [
    "message = f\"keep up the good work, {fullname.title()}\"\n",
    "print(message)"
   ]
  },
  {
   "cell_type": "code",
   "execution_count": 10,
   "id": "ccce3f8c",
   "metadata": {},
   "outputs": [],
   "source": [
    "#adding the whitespaces to strings"
   ]
  },
  {
   "cell_type": "code",
   "execution_count": 11,
   "id": "b1f9a1a9",
   "metadata": {},
   "outputs": [
    {
     "name": "stdout",
     "output_type": "stream",
     "text": [
      "fav_languages:pythonjavac++swiftscala\n"
     ]
    }
   ],
   "source": [
    "print(\"fav_languages:pythonjavac++swiftscala\")"
   ]
  },
  {
   "cell_type": "code",
   "execution_count": 12,
   "id": "19dfb7e4",
   "metadata": {},
   "outputs": [
    {
     "name": "stdout",
     "output_type": "stream",
     "text": [
      "fav_languages:\n",
      "python\n",
      "java\n",
      "c++\n",
      "swift\n",
      "scala\n"
     ]
    }
   ],
   "source": [
    "print(\"fav_languages:\\npython\\njava\\nc++\\nswift\\nscala\")"
   ]
  },
  {
   "cell_type": "code",
   "execution_count": 13,
   "id": "81a03f9f",
   "metadata": {},
   "outputs": [
    {
     "name": "stdout",
     "output_type": "stream",
     "text": [
      "fav_languages:\n",
      "\tpython\n",
      "\tjava\n",
      "\tc++\n",
      "\tswift\n",
      "\tscala\n"
     ]
    }
   ],
   "source": [
    "print(\"fav_languages:\\n\\tpython\\n\\tjava\\n\\tc++\\n\\tswift\\n\\tscala\")"
   ]
  },
  {
   "cell_type": "code",
   "execution_count": null,
   "id": "4600b855",
   "metadata": {},
   "outputs": [],
   "source": [
    "#removing whitespaces in strings"
   ]
  },
  {
   "cell_type": "code",
   "execution_count": 14,
   "id": "32f5a4fb",
   "metadata": {},
   "outputs": [
    {
     "name": "stdout",
     "output_type": "stream",
     "text": [
      "python\n"
     ]
    }
   ],
   "source": [
    "name ='python'\n",
    "print(name)"
   ]
  },
  {
   "cell_type": "code",
   "execution_count": 15,
   "id": "4da4de2d",
   "metadata": {},
   "outputs": [
    {
     "name": "stdout",
     "output_type": "stream",
     "text": [
      "python \n"
     ]
    }
   ],
   "source": [
    "name2 = \"python \"\n",
    "print(name2)"
   ]
  },
  {
   "cell_type": "code",
   "execution_count": 16,
   "id": "2f7c6e7f",
   "metadata": {},
   "outputs": [
    {
     "name": "stdout",
     "output_type": "stream",
     "text": [
      " python\n"
     ]
    }
   ],
   "source": [
    "name3 = \" python\"\n",
    "print(name3)"
   ]
  },
  {
   "cell_type": "code",
   "execution_count": 17,
   "id": "b421bce4",
   "metadata": {},
   "outputs": [
    {
     "data": {
      "text/plain": [
       "'python'"
      ]
     },
     "execution_count": 17,
     "metadata": {},
     "output_type": "execute_result"
    }
   ],
   "source": [
    "name.rstrip()"
   ]
  },
  {
   "cell_type": "code",
   "execution_count": 18,
   "id": "d678e3ba",
   "metadata": {},
   "outputs": [
    {
     "data": {
      "text/plain": [
       "'python'"
      ]
     },
     "execution_count": 18,
     "metadata": {},
     "output_type": "execute_result"
    }
   ],
   "source": [
    "name2.rstrip() #r--> right strip"
   ]
  },
  {
   "cell_type": "code",
   "execution_count": 19,
   "id": "a395921b",
   "metadata": {},
   "outputs": [
    {
     "data": {
      "text/plain": [
       "'python'"
      ]
     },
     "execution_count": 19,
     "metadata": {},
     "output_type": "execute_result"
    }
   ],
   "source": [
    "name3.lstrip() #l--> left stip"
   ]
  },
  {
   "cell_type": "code",
   "execution_count": null,
   "id": "51568b6f",
   "metadata": {},
   "outputs": [],
   "source": []
  }
 ],
 "metadata": {
  "kernelspec": {
   "display_name": "Python 3 (ipykernel)",
   "language": "python",
   "name": "python3"
  },
  "language_info": {
   "codemirror_mode": {
    "name": "ipython",
    "version": 3
   },
   "file_extension": ".py",
   "mimetype": "text/x-python",
   "name": "python",
   "nbconvert_exporter": "python",
   "pygments_lexer": "ipython3",
   "version": "3.11.5"
  }
 },
 "nbformat": 4,
 "nbformat_minor": 5
}
